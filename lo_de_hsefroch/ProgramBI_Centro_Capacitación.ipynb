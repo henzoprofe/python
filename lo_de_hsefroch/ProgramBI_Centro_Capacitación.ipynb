{
  "nbformat": 4,
  "nbformat_minor": 0,
  "metadata": {
    "colab": {
      "provenance": [],
      "include_colab_link": true
    },
    "kernelspec": {
      "name": "python3",
      "display_name": "Python 3"
    },
    "language_info": {
      "name": "python"
    }
  },
  "cells": [
    {
      "cell_type": "markdown",
      "metadata": {
        "id": "view-in-github",
        "colab_type": "text"
      },
      "source": [
        "<a href=\"https://colab.research.google.com/github/henzoprofe/python/blob/main/ProgramBI_Centro_Capacitaci%C3%B3n.ipynb\" target=\"_parent\"><img src=\"https://colab.research.google.com/assets/colab-badge.svg\" alt=\"Open In Colab\"/></a>"
      ]
    },
    {
      "cell_type": "markdown",
      "metadata": {
        "id": "xdGHbN6Ic1pX"
      },
      "source": [
        "## ProgramBI centro de capacitaciones.\n",
        "### https://capacitaciones.programbi.cl/\n",
        "Profesor: Manuel Oliva\n",
        "Fundador ProgramBI, Magíster(c) Data Science UAI, Especialista en Inversiones y Riesgos en AGF y Corredora de Bolsa. https://www.linkedin.com/in/manuel-oliva-riesgo-inversion/"
      ]
    },
    {
      "cell_type": "markdown",
      "source": [
        "Clase de Python.\n",
        "Librería Pandas para manipular planillas excel.\n"
      ],
      "metadata": {
        "id": "lm0DFqlyivQ-"
      }
    },
    {
      "cell_type": "code",
      "metadata": {
        "id": "WjsKgqkuXIai"
      },
      "source": [
        "import pandas as pd"
      ],
      "execution_count": null,
      "outputs": []
    },
    {
      "cell_type": "code",
      "source": [
        "!pip install openpyxl==3.0.9"
      ],
      "metadata": {
        "colab": {
          "base_uri": "https://localhost:8080/"
        },
        "id": "NbU7gBz1ZDHL",
        "outputId": "97dca9c5-7b1f-472c-f4ea-ba7745442b71"
      },
      "execution_count": null,
      "outputs": [
        {
          "output_type": "stream",
          "name": "stdout",
          "text": [
            "Requirement already satisfied: openpyxl==3.0.9 in /usr/local/lib/python3.7/dist-packages (3.0.9)\n",
            "Requirement already satisfied: et-xmlfile in /usr/local/lib/python3.7/dist-packages (from openpyxl==3.0.9) (1.1.0)\n"
          ]
        }
      ]
    },
    {
      "cell_type": "code",
      "metadata": {
        "id": "dyIdG-0e4-Na"
      },
      "source": [
        "BD_Ventas = pd.read_excel('BD_Ventas_Python.xlsx')"
      ],
      "execution_count": null,
      "outputs": []
    },
    {
      "cell_type": "code",
      "metadata": {
        "id": "DB7eer2f5SBT",
        "colab": {
          "base_uri": "https://localhost:8080/"
        },
        "outputId": "1d2fa938-8092-4bff-f64b-a9cc073aabc0"
      },
      "source": [
        "print(BD_Ventas)"
      ],
      "execution_count": null,
      "outputs": [
        {
          "output_type": "stream",
          "name": "stdout",
          "text": [
            "                  Fecha Cod_Producto  ...   Costo_Total      Utilidad\n",
            "0   2019-01-01 21:39:28         AA11  ...  3.750000e+05  3.750000e+05\n",
            "1   2019-01-02 06:16:19         CC22  ...  3.900000e+05  2.100000e+05\n",
            "2   2019-01-03 09:33:30         AA12  ...  2.000000e+05  2.000000e+05\n",
            "3   2019-01-04 17:18:49         CC23  ...  9.750000e+05  5.250000e+05\n",
            "4   2019-01-05 17:38:58         AA13  ...  1.500000e+06  1.500000e+06\n",
            "..                  ...          ...  ...           ...           ...\n",
            "230 2021-01-30 16:13:37         EE22  ...  1.035780e+07  1.035780e+07\n",
            "231 2021-01-31 21:58:01         AA12  ...  2.588180e+06  2.588180e+06\n",
            "232 2021-02-01 21:39:28         AA11  ...  1.250000e+07  1.250000e+07\n",
            "233 2021-02-01 21:39:28         AA11  ...  1.250000e+07  1.250000e+07\n",
            "234 2021-02-01 21:39:28         AA11  ...  1.250000e+07  1.250000e+07\n",
            "\n",
            "[235 rows x 10 columns]\n"
          ]
        }
      ]
    },
    {
      "cell_type": "code",
      "metadata": {
        "id": "X0W4OAS06Alo",
        "colab": {
          "base_uri": "https://localhost:8080/"
        },
        "outputId": "8e485863-4205-48d2-9603-1a1104f97393"
      },
      "source": [
        "type(BD_Ventas)"
      ],
      "execution_count": null,
      "outputs": [
        {
          "output_type": "execute_result",
          "data": {
            "text/plain": [
              "pandas.core.frame.DataFrame"
            ]
          },
          "metadata": {},
          "execution_count": 34
        }
      ]
    },
    {
      "cell_type": "code",
      "metadata": {
        "id": "NQO5HIP96fp0",
        "colab": {
          "base_uri": "https://localhost:8080/"
        },
        "outputId": "1af65d2e-b753-4c35-be83-0320332e6781"
      },
      "source": [
        "print (BD_Ventas.columns)"
      ],
      "execution_count": null,
      "outputs": [
        {
          "output_type": "stream",
          "name": "stdout",
          "text": [
            "Index(['Fecha', 'Cod_Producto', 'Vendedor', 'Local', 'Cantidad', 'P_Venta',\n",
            "       'Venta_Total', 'Costo_Unit', 'Costo_Total', 'Utilidad'],\n",
            "      dtype='object')\n"
          ]
        }
      ]
    },
    {
      "cell_type": "code",
      "metadata": {
        "id": "SVL9pu_e5VSX",
        "colab": {
          "base_uri": "https://localhost:8080/"
        },
        "outputId": "2055d69e-93c6-4e4d-fb29-9d3c63ffbe6a"
      },
      "source": [
        "print('Imprimir los primeros 7 elementos')\n",
        "print(BD_Ventas.head(7))"
      ],
      "execution_count": null,
      "outputs": [
        {
          "output_type": "stream",
          "name": "stdout",
          "text": [
            "Imprimir los primeros 7 elementos\n",
            "                Fecha Cod_Producto  ... Costo_Total   Utilidad\n",
            "0 2019-01-01 21:39:28         AA11  ...    375000.0   375000.0\n",
            "1 2019-01-02 06:16:19         CC22  ...    390000.0   210000.0\n",
            "2 2019-01-03 09:33:30         AA12  ...    200000.0   200000.0\n",
            "3 2019-01-04 17:18:49         CC23  ...    975000.0   525000.0\n",
            "4 2019-01-05 17:38:58         AA13  ...   1500000.0  1500000.0\n",
            "5 2019-01-06 18:58:48         CC24  ...   3185000.0  1715000.0\n",
            "6 2019-01-07 01:21:01         AA14  ...   3600000.0  3600000.0\n",
            "\n",
            "[7 rows x 10 columns]\n"
          ]
        }
      ]
    },
    {
      "cell_type": "code",
      "metadata": {
        "id": "j0vYVqP3bw4l",
        "colab": {
          "base_uri": "https://localhost:8080/"
        },
        "outputId": "f4a8d142-dd4f-41bb-9f30-a4e193f1b3e6"
      },
      "source": [
        "print (BD_Ventas.iloc[:7])\n"
      ],
      "execution_count": null,
      "outputs": [
        {
          "output_type": "stream",
          "name": "stdout",
          "text": [
            "                Fecha Cod_Producto  ... Costo_Total   Utilidad\n",
            "0 2019-01-01 21:39:28         AA11  ...    375000.0   375000.0\n",
            "1 2019-01-02 06:16:19         CC22  ...    390000.0   210000.0\n",
            "2 2019-01-03 09:33:30         AA12  ...    200000.0   200000.0\n",
            "3 2019-01-04 17:18:49         CC23  ...    975000.0   525000.0\n",
            "4 2019-01-05 17:38:58         AA13  ...   1500000.0  1500000.0\n",
            "5 2019-01-06 18:58:48         CC24  ...   3185000.0  1715000.0\n",
            "6 2019-01-07 01:21:01         AA14  ...   3600000.0  3600000.0\n",
            "\n",
            "[7 rows x 10 columns]\n"
          ]
        }
      ]
    },
    {
      "cell_type": "code",
      "metadata": {
        "id": "olL-w8DFcI3w",
        "colab": {
          "base_uri": "https://localhost:8080/",
          "height": 434
        },
        "outputId": "84fdb782-e261-4fbc-f98a-b73416962c87"
      },
      "source": [
        "BD_Ventas.head(7)\n"
      ],
      "execution_count": null,
      "outputs": [
        {
          "output_type": "execute_result",
          "data": {
            "text/html": [
              "\n",
              "  <div id=\"df-112c823a-e44d-4273-8d4f-8e21ae79a072\">\n",
              "    <div class=\"colab-df-container\">\n",
              "      <div>\n",
              "<style scoped>\n",
              "    .dataframe tbody tr th:only-of-type {\n",
              "        vertical-align: middle;\n",
              "    }\n",
              "\n",
              "    .dataframe tbody tr th {\n",
              "        vertical-align: top;\n",
              "    }\n",
              "\n",
              "    .dataframe thead th {\n",
              "        text-align: right;\n",
              "    }\n",
              "</style>\n",
              "<table border=\"1\" class=\"dataframe\">\n",
              "  <thead>\n",
              "    <tr style=\"text-align: right;\">\n",
              "      <th></th>\n",
              "      <th>Fecha</th>\n",
              "      <th>Cod_Producto</th>\n",
              "      <th>Vendedor</th>\n",
              "      <th>Local</th>\n",
              "      <th>Cantidad</th>\n",
              "      <th>P_Venta</th>\n",
              "      <th>Venta_Total</th>\n",
              "      <th>Costo_Unit</th>\n",
              "      <th>Costo_Total</th>\n",
              "      <th>Utilidad</th>\n",
              "    </tr>\n",
              "  </thead>\n",
              "  <tbody>\n",
              "    <tr>\n",
              "      <th>0</th>\n",
              "      <td>2019-01-01 21:39:28</td>\n",
              "      <td>AA11</td>\n",
              "      <td>Juan Romero</td>\n",
              "      <td>Santiago</td>\n",
              "      <td>300.0</td>\n",
              "      <td>2500</td>\n",
              "      <td>750000.0</td>\n",
              "      <td>1250</td>\n",
              "      <td>375000.0</td>\n",
              "      <td>375000.0</td>\n",
              "    </tr>\n",
              "    <tr>\n",
              "      <th>1</th>\n",
              "      <td>2019-01-02 06:16:19</td>\n",
              "      <td>CC22</td>\n",
              "      <td>Pedro Rojas</td>\n",
              "      <td>Santiago</td>\n",
              "      <td>200.0</td>\n",
              "      <td>3000</td>\n",
              "      <td>600000.0</td>\n",
              "      <td>1950</td>\n",
              "      <td>390000.0</td>\n",
              "      <td>210000.0</td>\n",
              "    </tr>\n",
              "    <tr>\n",
              "      <th>2</th>\n",
              "      <td>2019-01-03 09:33:30</td>\n",
              "      <td>AA12</td>\n",
              "      <td>Emanuel Lopez</td>\n",
              "      <td>Rancagua</td>\n",
              "      <td>100.0</td>\n",
              "      <td>4000</td>\n",
              "      <td>400000.0</td>\n",
              "      <td>2000</td>\n",
              "      <td>200000.0</td>\n",
              "      <td>200000.0</td>\n",
              "    </tr>\n",
              "    <tr>\n",
              "      <th>3</th>\n",
              "      <td>2019-01-04 17:18:49</td>\n",
              "      <td>CC23</td>\n",
              "      <td>Jimena Oliva</td>\n",
              "      <td>Rancagua</td>\n",
              "      <td>300.0</td>\n",
              "      <td>5000</td>\n",
              "      <td>1500000.0</td>\n",
              "      <td>3250</td>\n",
              "      <td>975000.0</td>\n",
              "      <td>525000.0</td>\n",
              "    </tr>\n",
              "    <tr>\n",
              "      <th>4</th>\n",
              "      <td>2019-01-05 17:38:58</td>\n",
              "      <td>AA13</td>\n",
              "      <td>Roxana Gonzalez</td>\n",
              "      <td>Rancagua</td>\n",
              "      <td>500.0</td>\n",
              "      <td>6000</td>\n",
              "      <td>3000000.0</td>\n",
              "      <td>3000</td>\n",
              "      <td>1500000.0</td>\n",
              "      <td>1500000.0</td>\n",
              "    </tr>\n",
              "    <tr>\n",
              "      <th>5</th>\n",
              "      <td>2019-01-06 18:58:48</td>\n",
              "      <td>CC24</td>\n",
              "      <td>Juan Romero</td>\n",
              "      <td>Rancagua</td>\n",
              "      <td>700.0</td>\n",
              "      <td>7000</td>\n",
              "      <td>4900000.0</td>\n",
              "      <td>4550</td>\n",
              "      <td>3185000.0</td>\n",
              "      <td>1715000.0</td>\n",
              "    </tr>\n",
              "    <tr>\n",
              "      <th>6</th>\n",
              "      <td>2019-01-07 01:21:01</td>\n",
              "      <td>AA14</td>\n",
              "      <td>Pedro Rojas</td>\n",
              "      <td>Rancagua</td>\n",
              "      <td>900.0</td>\n",
              "      <td>8000</td>\n",
              "      <td>7200000.0</td>\n",
              "      <td>4000</td>\n",
              "      <td>3600000.0</td>\n",
              "      <td>3600000.0</td>\n",
              "    </tr>\n",
              "  </tbody>\n",
              "</table>\n",
              "</div>\n",
              "      <button class=\"colab-df-convert\" onclick=\"convertToInteractive('df-112c823a-e44d-4273-8d4f-8e21ae79a072')\"\n",
              "              title=\"Convert this dataframe to an interactive table.\"\n",
              "              style=\"display:none;\">\n",
              "        \n",
              "  <svg xmlns=\"http://www.w3.org/2000/svg\" height=\"24px\"viewBox=\"0 0 24 24\"\n",
              "       width=\"24px\">\n",
              "    <path d=\"M0 0h24v24H0V0z\" fill=\"none\"/>\n",
              "    <path d=\"M18.56 5.44l.94 2.06.94-2.06 2.06-.94-2.06-.94-.94-2.06-.94 2.06-2.06.94zm-11 1L8.5 8.5l.94-2.06 2.06-.94-2.06-.94L8.5 2.5l-.94 2.06-2.06.94zm10 10l.94 2.06.94-2.06 2.06-.94-2.06-.94-.94-2.06-.94 2.06-2.06.94z\"/><path d=\"M17.41 7.96l-1.37-1.37c-.4-.4-.92-.59-1.43-.59-.52 0-1.04.2-1.43.59L10.3 9.45l-7.72 7.72c-.78.78-.78 2.05 0 2.83L4 21.41c.39.39.9.59 1.41.59.51 0 1.02-.2 1.41-.59l7.78-7.78 2.81-2.81c.8-.78.8-2.07 0-2.86zM5.41 20L4 18.59l7.72-7.72 1.47 1.35L5.41 20z\"/>\n",
              "  </svg>\n",
              "      </button>\n",
              "      \n",
              "  <style>\n",
              "    .colab-df-container {\n",
              "      display:flex;\n",
              "      flex-wrap:wrap;\n",
              "      gap: 12px;\n",
              "    }\n",
              "\n",
              "    .colab-df-convert {\n",
              "      background-color: #E8F0FE;\n",
              "      border: none;\n",
              "      border-radius: 50%;\n",
              "      cursor: pointer;\n",
              "      display: none;\n",
              "      fill: #1967D2;\n",
              "      height: 32px;\n",
              "      padding: 0 0 0 0;\n",
              "      width: 32px;\n",
              "    }\n",
              "\n",
              "    .colab-df-convert:hover {\n",
              "      background-color: #E2EBFA;\n",
              "      box-shadow: 0px 1px 2px rgba(60, 64, 67, 0.3), 0px 1px 3px 1px rgba(60, 64, 67, 0.15);\n",
              "      fill: #174EA6;\n",
              "    }\n",
              "\n",
              "    [theme=dark] .colab-df-convert {\n",
              "      background-color: #3B4455;\n",
              "      fill: #D2E3FC;\n",
              "    }\n",
              "\n",
              "    [theme=dark] .colab-df-convert:hover {\n",
              "      background-color: #434B5C;\n",
              "      box-shadow: 0px 1px 3px 1px rgba(0, 0, 0, 0.15);\n",
              "      filter: drop-shadow(0px 1px 2px rgba(0, 0, 0, 0.3));\n",
              "      fill: #FFFFFF;\n",
              "    }\n",
              "  </style>\n",
              "\n",
              "      <script>\n",
              "        const buttonEl =\n",
              "          document.querySelector('#df-112c823a-e44d-4273-8d4f-8e21ae79a072 button.colab-df-convert');\n",
              "        buttonEl.style.display =\n",
              "          google.colab.kernel.accessAllowed ? 'block' : 'none';\n",
              "\n",
              "        async function convertToInteractive(key) {\n",
              "          const element = document.querySelector('#df-112c823a-e44d-4273-8d4f-8e21ae79a072');\n",
              "          const dataTable =\n",
              "            await google.colab.kernel.invokeFunction('convertToInteractive',\n",
              "                                                     [key], {});\n",
              "          if (!dataTable) return;\n",
              "\n",
              "          const docLinkHtml = 'Like what you see? Visit the ' +\n",
              "            '<a target=\"_blank\" href=https://colab.research.google.com/notebooks/data_table.ipynb>data table notebook</a>'\n",
              "            + ' to learn more about interactive tables.';\n",
              "          element.innerHTML = '';\n",
              "          dataTable['output_type'] = 'display_data';\n",
              "          await google.colab.output.renderOutput(dataTable, element);\n",
              "          const docLink = document.createElement('div');\n",
              "          docLink.innerHTML = docLinkHtml;\n",
              "          element.appendChild(docLink);\n",
              "        }\n",
              "      </script>\n",
              "    </div>\n",
              "  </div>\n",
              "  "
            ],
            "text/plain": [
              "                Fecha Cod_Producto  ... Costo_Total   Utilidad\n",
              "0 2019-01-01 21:39:28         AA11  ...    375000.0   375000.0\n",
              "1 2019-01-02 06:16:19         CC22  ...    390000.0   210000.0\n",
              "2 2019-01-03 09:33:30         AA12  ...    200000.0   200000.0\n",
              "3 2019-01-04 17:18:49         CC23  ...    975000.0   525000.0\n",
              "4 2019-01-05 17:38:58         AA13  ...   1500000.0  1500000.0\n",
              "5 2019-01-06 18:58:48         CC24  ...   3185000.0  1715000.0\n",
              "6 2019-01-07 01:21:01         AA14  ...   3600000.0  3600000.0\n",
              "\n",
              "[7 rows x 10 columns]"
            ]
          },
          "metadata": {},
          "execution_count": 38
        }
      ]
    },
    {
      "cell_type": "code",
      "metadata": {
        "id": "P_RuecF76Qhs"
      },
      "source": [
        "Venta_Local = BD_Ventas [['Local', 'Cantidad']]"
      ],
      "execution_count": null,
      "outputs": []
    },
    {
      "cell_type": "code",
      "metadata": {
        "id": "B4v2CttY6z6g",
        "colab": {
          "base_uri": "https://localhost:8080/"
        },
        "outputId": "c14b7f5f-ca8e-477d-8a69-c93dd1e75c07"
      },
      "source": [
        "type(Venta_Local)"
      ],
      "execution_count": null,
      "outputs": [
        {
          "output_type": "execute_result",
          "data": {
            "text/plain": [
              "pandas.core.frame.DataFrame"
            ]
          },
          "metadata": {},
          "execution_count": 41
        }
      ]
    },
    {
      "cell_type": "code",
      "metadata": {
        "id": "oR_BqpO-64yW",
        "colab": {
          "base_uri": "https://localhost:8080/"
        },
        "outputId": "61a180c2-c859-4c33-d18d-82050c461676"
      },
      "source": [
        "print (Venta_Local.dtypes)"
      ],
      "execution_count": null,
      "outputs": [
        {
          "output_type": "stream",
          "name": "stdout",
          "text": [
            "Local        object\n",
            "Cantidad    float64\n",
            "dtype: object\n"
          ]
        }
      ]
    },
    {
      "cell_type": "code",
      "metadata": {
        "id": "4iLCKtTe8arp",
        "colab": {
          "base_uri": "https://localhost:8080/"
        },
        "outputId": "4abb1724-0b9b-4474-998d-57fd082b9ddb"
      },
      "source": [
        "print (Venta_Local.describe(include='all'))"
      ],
      "execution_count": null,
      "outputs": [
        {
          "output_type": "stream",
          "name": "stdout",
          "text": [
            "         Local      Cantidad\n",
            "count      235    235.000000\n",
            "unique       6           NaN\n",
            "top     Temuco           NaN\n",
            "freq       127           NaN\n",
            "mean       NaN    925.141671\n",
            "std        NaN   1099.116712\n",
            "min        NaN    100.000000\n",
            "25%        NaN    711.250725\n",
            "50%        NaN    747.750725\n",
            "75%        NaN    784.885507\n",
            "max        NaN  10000.000000\n"
          ]
        }
      ]
    },
    {
      "cell_type": "code",
      "metadata": {
        "id": "_IuthWnsdXmT"
      },
      "source": [
        "print (BD_Ventas.describe(include='all'))"
      ],
      "execution_count": null,
      "outputs": []
    },
    {
      "cell_type": "markdown",
      "metadata": {
        "id": "JGDMYm7644AB"
      },
      "source": [
        "LIMPIANDO DATOS Y APLICANDO FORMATOS"
      ]
    },
    {
      "cell_type": "code",
      "metadata": {
        "id": "UIGuTpJUwWRD",
        "colab": {
          "base_uri": "https://localhost:8080/"
        },
        "outputId": "0ab847b3-dee4-416d-8548-8dc420d0e9f1"
      },
      "source": [
        "#Que pasa si llegan textos en vez de números\n",
        "\n",
        "#Creamos un diccionario con dos variables \"Productos\" y \"Cantidad\"\n",
        "\n",
        "Datos = {'Productos': ['MESAS','SILLAS','CUADERNOS'],\n",
        "          'Cantidad': ['1500.5','800.23','500.4']}\n",
        "\n",
        "df = pd.DataFrame(Datos) # es muy importante\n",
        "print (df)\n",
        "\n"
      ],
      "execution_count": null,
      "outputs": [
        {
          "output_type": "stream",
          "name": "stdout",
          "text": [
            "   Productos Cantidad\n",
            "0      MESAS   1500.5\n",
            "1     SILLAS   800.23\n",
            "2  CUADERNOS    500.4\n"
          ]
        }
      ]
    },
    {
      "cell_type": "code",
      "metadata": {
        "id": "XMZbSrT-eUWI",
        "colab": {
          "base_uri": "https://localhost:8080/"
        },
        "outputId": "9eadecd2-7672-45d9-b8c6-f5c25fa7983b"
      },
      "source": [
        "type(Datos)"
      ],
      "execution_count": null,
      "outputs": [
        {
          "output_type": "execute_result",
          "data": {
            "text/plain": [
              "dict"
            ]
          },
          "metadata": {},
          "execution_count": 47
        }
      ]
    },
    {
      "cell_type": "code",
      "metadata": {
        "id": "Y95aKPkl0qex",
        "colab": {
          "base_uri": "https://localhost:8080/"
        },
        "outputId": "a963b318-5bbb-4da6-c5f3-3ba3ba4b8919"
      },
      "source": [
        "print (df.dtypes)"
      ],
      "execution_count": null,
      "outputs": [
        {
          "output_type": "stream",
          "name": "stdout",
          "text": [
            "Productos    object\n",
            "Cantidad     object\n",
            "dtype: object\n"
          ]
        }
      ]
    },
    {
      "cell_type": "code",
      "metadata": {
        "id": "xGDJ8NMezPpd"
      },
      "source": [
        "# Cantidad es un tipo de dato object hay que trasnformarlo\n",
        "# Opción a)\n",
        "# Usando Método astype(int) :\n",
        "df['Cantidad'] = df['Cantidad'].astype(float)"
      ],
      "execution_count": null,
      "outputs": []
    },
    {
      "cell_type": "code",
      "metadata": {
        "id": "mBYGyQfm1JDX"
      },
      "source": [
        "print (df)\n",
        "print (df.dtypes)"
      ],
      "execution_count": null,
      "outputs": []
    },
    {
      "cell_type": "code",
      "metadata": {
        "id": "qDgHWNWJ074S"
      },
      "source": [
        "# Opción 2 para cambiar a número\n",
        "df['Cantidad'] = pd.to_numeric(df['Cantidad'])"
      ],
      "execution_count": null,
      "outputs": []
    },
    {
      "cell_type": "code",
      "metadata": {
        "id": "Ol-puwD31YLH"
      },
      "source": [
        "print (df)\n",
        "print (df.dtypes)"
      ],
      "execution_count": null,
      "outputs": []
    },
    {
      "cell_type": "code",
      "metadata": {
        "id": "s0_1H2yQ1qW6"
      },
      "source": [
        "# Transformando fechas en los DataFrame\n",
        "Inversiones = {'Fecha':  ['200409','210517','200621'],\n",
        "          'Acción': ['LTM','Copec','CMPC']\n",
        "          }\n"
      ],
      "execution_count": null,
      "outputs": []
    },
    {
      "cell_type": "code",
      "metadata": {
        "id": "qaw62nqD2EB5"
      },
      "source": [
        "# Creando DF\n",
        "df = pd.DataFrame(Inversiones,columns=['Fecha','Acción'])\n",
        "\n",
        "print (df)\n",
        "print (df.dtypes)"
      ],
      "execution_count": null,
      "outputs": []
    },
    {
      "cell_type": "code",
      "metadata": {
        "id": "aoLsCRBi2S-7"
      },
      "source": [
        "df['Fecha'] = pd.to_datetime(df['Fecha'], format='%y%m%d')\n",
        "print (df)\n",
        "print (df.dtypes)"
      ],
      "execution_count": null,
      "outputs": []
    },
    {
      "cell_type": "code",
      "metadata": {
        "id": "Zz1FQHaE2uox"
      },
      "source": [
        "\n",
        "Inversiones_2 = {'Fecha':  ['20201015','20210705','20180520'],\n",
        "          'Acción': ['LTM','Copec','CMPC']\n",
        "          }"
      ],
      "execution_count": null,
      "outputs": []
    },
    {
      "cell_type": "code",
      "metadata": {
        "id": "5lA8xSjV3EGa"
      },
      "source": [
        "df = pd.DataFrame(Inversiones_2,columns=['Fecha','Acción'])\n",
        "\n",
        "print (df)\n",
        "print (df.dtypes)"
      ],
      "execution_count": null,
      "outputs": []
    },
    {
      "cell_type": "code",
      "metadata": {
        "id": "Dvq6AoXH3QpZ"
      },
      "source": [
        "df['Fecha'] = pd.to_datetime(df['Fecha'], format='%Y%m%d')\n",
        "print (df)\n",
        "#print (df.dtypes)"
      ],
      "execution_count": null,
      "outputs": []
    },
    {
      "cell_type": "code",
      "metadata": {
        "id": "1j8eR2TK3hDD"
      },
      "source": [
        "# Podemos ajustar el formato de la fecha a nuestra medida\n",
        "df['Fecha'] = df['Fecha'].dt.strftime('%m/%d/%Y')\n",
        "\n",
        "print (df)\n",
        "print (df.dtypes)"
      ],
      "execution_count": null,
      "outputs": []
    },
    {
      "cell_type": "markdown",
      "metadata": {
        "id": "I6i1L4_bxrwq"
      },
      "source": [
        "APLICACIONES INTERESANTES PARA OPERAR CON REGISTROS"
      ]
    },
    {
      "cell_type": "code",
      "metadata": {
        "id": "iQ5foqR9xrXJ"
      },
      "source": [
        "import re\n",
        "lista = ['Pedro Romero','Flores Erwin','Bastian Salas','Erwin Romero','Erwin prat']\n",
        "\n",
        "for names in lista:\n",
        "    if re.findall('^Erwin',names):#Buscaremos cual de los elementos comienza por \"Erwin\n",
        "      print(names)"
      ],
      "execution_count": null,
      "outputs": []
    },
    {
      "cell_type": "code",
      "metadata": {
        "id": "GB58Ovk2zU2T"
      },
      "source": [
        "for names in lista:\n",
        "    if re.findall('Romero$',names):#Buscaremos termina por Romero\n",
        "      print(names)"
      ],
      "execution_count": null,
      "outputs": []
    },
    {
      "cell_type": "code",
      "source": [
        "#Solución 1\n",
        "for names in lista:\n",
        "    if re.findall('Erwin',names):#Buscaremos cual de los elementos comienza por \"Erwin\n",
        "      print(names)"
      ],
      "metadata": {
        "id": "1rysz_pagOed"
      },
      "execution_count": null,
      "outputs": []
    },
    {
      "cell_type": "code",
      "source": [
        "#Solución 2\n",
        "import re\n",
        "lista = ['Pedro Romero','Flores Erwin','Bastian Salas','Erwin Romero','Erwin prat']\n",
        "\n",
        "for names in lista:\n",
        "    if re.findall('Erwin$',names) or re.findall('^Erwin',names):#Buscaremos cual de los elementos comienza por \"Erwin\n",
        "      print(names)\n"
      ],
      "metadata": {
        "id": "qa8vtpEzggYU"
      },
      "execution_count": null,
      "outputs": []
    },
    {
      "cell_type": "code",
      "metadata": {
        "id": "tAGxDzdyzhGJ"
      },
      "source": [
        "type (names)"
      ],
      "execution_count": null,
      "outputs": []
    },
    {
      "cell_type": "code",
      "metadata": {
        "id": "Olkn8866ygr2",
        "colab": {
          "base_uri": "https://localhost:8080/"
        },
        "outputId": "c365c5e9-d00b-41b4-ba2e-5044594ce7b8"
      },
      "source": [
        "# Aplicando funciomes findall para busqueda de datos.\n",
        "\n",
        "ingreso = \"La Bolsa de Santiago y la bolsa de EEUU son riesgosas\"\n",
        "\n",
        "texto_buscado = \"bolsa\"\n",
        "\n",
        "print(re.findall(texto_buscado, ingreso))\n",
        "\n",
        "print(len(re.findall(texto_buscado, ingreso)))"
      ],
      "execution_count": null,
      "outputs": [
        {
          "output_type": "stream",
          "name": "stdout",
          "text": [
            "['Bolsa']\n",
            "1\n"
          ]
        }
      ]
    },
    {
      "cell_type": "code",
      "source": [
        "#Tarea 1... Resolver el problema de encontrar la palabra bolsa \"Bolsa o bolsa\"\n",
        "#Tarea 2 Texto buscado sea ingresado por el usuario en pantalla"
      ],
      "metadata": {
        "id": "2CT-vYXSi-W3"
      },
      "execution_count": null,
      "outputs": []
    },
    {
      "cell_type": "code",
      "source": [
        "ingreso = \"La Bolsa de Santiago y la Bolsa de EEUU son riesgosas\"\n",
        "Ingreso_min = ingreso.lower()\n",
        "\n",
        "texto_buscado = input()\n",
        "texto_minuscula = texto_buscado.lower()\n",
        "\n",
        "print(re.findall(texto_minuscula, Ingreso_min))\n",
        "\n",
        "print(len(re.findall(texto_minuscula, Ingreso_min)))\n"
      ],
      "metadata": {
        "id": "lTKLRJb3odIM"
      },
      "execution_count": null,
      "outputs": []
    },
    {
      "cell_type": "code",
      "source": [
        "ingreso = \"La Bolsa de Santiago y la bolsa de EEUU son riesgosas\"\n",
        "#ingresar por ejemplo bolsa o la\n",
        "texto = str(input())\n",
        "print(re.findall(texto.upper(), ingreso.upper()))\n",
        "print(len(re.findall(texto.upper(), ingreso.upper())))\n"
      ],
      "metadata": {
        "id": "byv6tBVgpOvK"
      },
      "execution_count": null,
      "outputs": []
    },
    {
      "cell_type": "markdown",
      "metadata": {
        "id": "bCToXSqBaFjh"
      },
      "source": [
        "# Visualización en Python"
      ]
    },
    {
      "cell_type": "markdown",
      "metadata": {
        "id": "nitrC19AazWe"
      },
      "source": [
        "1) Creando un DataFrame"
      ]
    },
    {
      "cell_type": "code",
      "metadata": {
        "id": "CYtk_BDoaygF"
      },
      "source": [
        "Venta_por_fecha = BD_Ventas [['Fecha', 'Cantidad']]"
      ],
      "execution_count": null,
      "outputs": []
    },
    {
      "cell_type": "code",
      "metadata": {
        "id": "KiF4vXLibCmK",
        "colab": {
          "base_uri": "https://localhost:8080/"
        },
        "outputId": "d23e01d8-1d76-4aa4-b7f1-4ff90361de0b"
      },
      "source": [
        "print (Venta_por_fecha.dtypes)"
      ],
      "execution_count": null,
      "outputs": [
        {
          "output_type": "stream",
          "name": "stdout",
          "text": [
            "Fecha       datetime64[ns]\n",
            "Cantidad           float64\n",
            "dtype: object\n"
          ]
        }
      ]
    },
    {
      "cell_type": "markdown",
      "metadata": {
        "id": "mfrj9xAfcsZu"
      },
      "source": [
        "2) Agrupamos datos a visualizar"
      ]
    },
    {
      "cell_type": "code",
      "metadata": {
        "id": "vvVAB4GzaFKA"
      },
      "source": [
        "Ventas_uu_diarias = Venta_por_fecha.groupby('Fecha')\n",
        "Resumen_1 = Ventas_uu_diarias['Cantidad'].agg(['sum'],skipna=True)\n",
        "\n",
        "#(skipna es para que no considere nulos)"
      ],
      "execution_count": null,
      "outputs": []
    },
    {
      "cell_type": "code",
      "metadata": {
        "colab": {
          "base_uri": "https://localhost:8080/"
        },
        "id": "TCFHuhbNBne6",
        "outputId": "8f952663-4815-4e39-b72b-202c7349241e"
      },
      "source": [
        "print(Ventas_uu_diarias)"
      ],
      "execution_count": null,
      "outputs": [
        {
          "output_type": "stream",
          "name": "stdout",
          "text": [
            "<pandas.core.groupby.generic.DataFrameGroupBy object at 0x7fafc0ff6610>\n"
          ]
        }
      ]
    },
    {
      "cell_type": "code",
      "metadata": {
        "id": "gGjSEfuCeI40",
        "colab": {
          "base_uri": "https://localhost:8080/"
        },
        "outputId": "342be0b7-0ac0-4cd7-d94b-c5e667520879"
      },
      "source": [
        "print (Resumen_1)"
      ],
      "execution_count": null,
      "outputs": [
        {
          "output_type": "stream",
          "name": "stdout",
          "text": [
            "                              sum\n",
            "Fecha                            \n",
            "2019-01-01 21:39:28    300.000000\n",
            "2019-01-02 06:16:19    200.000000\n",
            "2019-01-03 09:33:30    100.000000\n",
            "2019-01-04 17:18:49    300.000000\n",
            "2019-01-05 17:38:58    500.000000\n",
            "...                           ...\n",
            "2021-01-28 02:03:54   1295.994203\n",
            "2021-01-29 04:07:20   1295.359420\n",
            "2021-01-30 16:13:37   1294.724638\n",
            "2021-01-31 21:58:01   1294.089855\n",
            "2021-02-01 21:39:28  30000.000000\n",
            "\n",
            "[233 rows x 1 columns]\n"
          ]
        }
      ]
    },
    {
      "cell_type": "code",
      "metadata": {
        "id": "3V8RyX-Oerjk"
      },
      "source": [
        "print (Resumen_1.dtypes)"
      ],
      "execution_count": null,
      "outputs": []
    },
    {
      "cell_type": "code",
      "metadata": {
        "id": "z-zFj8obfFhc"
      },
      "source": [
        "Resumen_1.plot()"
      ],
      "execution_count": null,
      "outputs": []
    },
    {
      "cell_type": "code",
      "metadata": {
        "id": "rQ_X8JQzfpmT"
      },
      "source": [
        "Ventas_por_local = Venta_Local.groupby('Local')\n",
        "Resumen_2 = Ventas_por_local['Cantidad'].agg(['sum'],skipna=True)"
      ],
      "execution_count": null,
      "outputs": []
    },
    {
      "cell_type": "code",
      "metadata": {
        "colab": {
          "base_uri": "https://localhost:8080/"
        },
        "id": "Uc2Rs0y7E7oT",
        "outputId": "b0a18f11-43bd-43a1-8ff9-7cddf93aa0c9"
      },
      "source": [
        "print(Resumen_2)"
      ],
      "execution_count": null,
      "outputs": [
        {
          "output_type": "stream",
          "name": "stdout",
          "text": [
            "                        sum\n",
            "Local                      \n",
            "La Serena      18500.518841\n",
            "Rancagua        8470.536232\n",
            "Santiago         500.000000\n",
            "Temuco        139698.217391\n",
            "Valdivia       21004.539130\n",
            "Viña del mar   29234.481159\n"
          ]
        }
      ]
    },
    {
      "cell_type": "code",
      "metadata": {
        "colab": {
          "base_uri": "https://localhost:8080/"
        },
        "id": "YlKjxuzDE_Ds",
        "outputId": "ac7bab80-6bb1-4546-e89a-8613cfeb4b46"
      },
      "source": [
        "type(Resumen_2)"
      ],
      "execution_count": null,
      "outputs": [
        {
          "output_type": "execute_result",
          "data": {
            "text/plain": [
              "pandas.core.frame.DataFrame"
            ]
          },
          "metadata": {},
          "execution_count": 57
        }
      ]
    },
    {
      "cell_type": "code",
      "metadata": {
        "id": "FgXKdwIJfSog",
        "colab": {
          "base_uri": "https://localhost:8080/",
          "height": 350
        },
        "outputId": "f752173b-4704-4cd8-e628-41d0d16c0bc3"
      },
      "source": [
        "Resumen_2.plot(kind='bar', xlabel='Local de ventas', ylabel='Unidades')"
      ],
      "execution_count": null,
      "outputs": [
        {
          "output_type": "execute_result",
          "data": {
            "text/plain": [
              "<matplotlib.axes._subplots.AxesSubplot at 0x7fafc1007290>"
            ]
          },
          "metadata": {},
          "execution_count": 58
        },
        {
          "output_type": "display_data",
          "data": {
            "image/png": "[encoded data removed]",
            "text/plain": [
              "<Figure size 432x288 with 1 Axes>"
            ]
          },
          "metadata": {
            "needs_background": "light"
          }
        }
      ]
    },
    {
      "cell_type": "markdown",
      "metadata": {
        "id": "1pqBE1Z4heSO"
      },
      "source": [
        "### Agrupaciones por local con más de una función (se parecen a tablas dinámicas de excel)."
      ]
    },
    {
      "cell_type": "code",
      "metadata": {
        "id": "LpGtwqzwembn"
      },
      "source": [
        "# Agrupando\n",
        "# Agrupar con varias funciones....\n",
        "Ventas_uu_loc = Venta_Local.groupby('Local')\n",
        "Resumen_3 = Ventas_uu_loc['Cantidad'].agg(['sum','mean','count', 'std'],skipna=True)"
      ],
      "execution_count": null,
      "outputs": []
    },
    {
      "cell_type": "code",
      "metadata": {
        "id": "zb487oycefvK",
        "colab": {
          "base_uri": "https://localhost:8080/"
        },
        "outputId": "2fae0293-aabb-427c-fdfb-61ec7c90e986"
      },
      "source": [
        "print (Resumen_3)"
      ],
      "execution_count": null,
      "outputs": [
        {
          "output_type": "stream",
          "name": "stdout",
          "text": [
            "                        sum         mean  count          std\n",
            "Local                                                       \n",
            "La Serena      18500.518841   711.558417     26   180.949802\n",
            "Rancagua        8470.536232   705.878019     12   319.172864\n",
            "Santiago         500.000000   250.000000      2    70.710678\n",
            "Temuco        139698.217391  1099.985964    127  1439.730278\n",
            "Valdivia       21004.539130   875.189130     24   585.119043\n",
            "Viña del mar   29234.481159   664.420026     44   220.111412\n"
          ]
        }
      ]
    },
    {
      "cell_type": "code",
      "metadata": {
        "colab": {
          "base_uri": "https://localhost:8080/"
        },
        "id": "uNyO3rjcK-QS",
        "outputId": "943aed9e-3d84-42dc-ac44-c4232cca98ad"
      },
      "source": [
        "type(Resumen_3)"
      ],
      "execution_count": null,
      "outputs": [
        {
          "output_type": "execute_result",
          "data": {
            "text/plain": [
              "pandas.core.frame.DataFrame"
            ]
          },
          "metadata": {},
          "execution_count": 28
        }
      ]
    },
    {
      "cell_type": "markdown",
      "metadata": {
        "id": "FyA2VRFajEc6"
      },
      "source": [
        "### Agrupación a la medida\n",
        "solicitando un dato al usuario, para filtrar un DF"
      ]
    },
    {
      "cell_type": "code",
      "metadata": {
        "id": "aRFTsiKuhb6g",
        "colab": {
          "base_uri": "https://localhost:8080/"
        },
        "outputId": "a7d191a1-636c-4050-f732-961b8fa6aed8"
      },
      "source": [
        "ingreso_local = (input('Ingresa local : '))"
      ],
      "execution_count": null,
      "outputs": [
        {
          "name": "stdout",
          "output_type": "stream",
          "text": [
            "Ingresa local : Temuco\n"
          ]
        }
      ]
    },
    {
      "cell_type": "code",
      "metadata": {
        "id": "no7Du55mjMSJ",
        "colab": {
          "base_uri": "https://localhost:8080/"
        },
        "outputId": "a2ac9dbe-40da-40a0-ea60-3905d96b7aff"
      },
      "source": [
        "grupo = BD_Ventas[BD_Ventas['Local']==ingreso_local].groupby('Vendedor')\n",
        "Respuesta = grupo['Cantidad','Venta_Total'].agg(['sum'],skipna=True)"
      ],
      "execution_count": null,
      "outputs": [
        {
          "output_type": "stream",
          "name": "stderr",
          "text": [
            "/usr/local/lib/python3.7/dist-packages/ipykernel_launcher.py:2: FutureWarning: Indexing with multiple keys (implicitly converted to a tuple of keys) will be deprecated, use a list instead.\n",
            "  \n"
          ]
        }
      ]
    },
    {
      "cell_type": "code",
      "metadata": {
        "id": "C8QYqT71kdDd",
        "colab": {
          "base_uri": "https://localhost:8080/"
        },
        "outputId": "07df2e0d-cd27-4e62-d243-15cfa1c90088"
      },
      "source": [
        "print (Respuesta)"
      ],
      "execution_count": null,
      "outputs": [
        {
          "output_type": "stream",
          "name": "stdout",
          "text": [
            "                     Cantidad   Venta_Total\n",
            "                          sum           sum\n",
            "Vendedor                                   \n",
            "Emanuel Lopez    21735.005797  3.966117e+08\n",
            "Jimena Oliva     23209.550725  4.435299e+08\n",
            "Juan Romero      50972.788406  4.619532e+08\n",
            "Pedro Rojas      23769.362319  4.319659e+08\n",
            "Roxana Gonzalez  20011.510145  3.947357e+08\n"
          ]
        }
      ]
    },
    {
      "cell_type": "markdown",
      "metadata": {
        "id": "qHfwEqMzmwZZ"
      },
      "source": [
        "## Tarea aplicada\n",
        "\n",
        "a) Crear un DF que resuma las ventas por productos (Venta_Total $)\n",
        "\n",
        "b) Crear un gráfico con el DF del punto a)\n",
        "\n",
        "c) Crear un DF que resuma la utilidad por local\n",
        "\n",
        "d) Crear gráfico para el punto c)\n",
        "\n",
        "e) Determinar las ventas (Venta_Total $) por productos del señor Juan Romero\n",
        "\n",
        "f) Solicitar al usuario un vendedor y entregar la utilidad generada por los productos vendidos.\n",
        "\n",
        "g) Crear gráfico para el punto f)"
      ]
    },
    {
      "cell_type": "code",
      "source": [
        "BD_Ventas = pd.read_excel('BD_Ventas_Python.xlsx')\n",
        "Venta_Prod = BD_Ventas [['Cod_Producto', 'Venta_Total']]\n"
      ],
      "metadata": {
        "id": "DlzZjxm9wvHv"
      },
      "execution_count": null,
      "outputs": []
    },
    {
      "cell_type": "code",
      "source": [
        "Venta_por_Prod = Venta_Prod.groupby('Cod_Producto')\n",
        "Resumen_1 = Venta_por_Prod['Venta_Total'].agg(['sum'],skipna=True)\n",
        "Resumen_1.plot(kind='bar', xlabel='Producto', ylabel='Venta Total')\n"
      ],
      "metadata": {
        "colab": {
          "base_uri": "https://localhost:8080/",
          "height": 324
        },
        "id": "XNV3ExZIwu1x",
        "outputId": "5d14976b-1ecf-4ebd-de84-2a8e1bbc6d0c"
      },
      "execution_count": null,
      "outputs": [
        {
          "output_type": "execute_result",
          "data": {
            "text/plain": [
              "<matplotlib.axes._subplots.AxesSubplot at 0x7f0bf8657950>"
            ]
          },
          "metadata": {},
          "execution_count": 92
        },
        {
          "output_type": "display_data",
          "data": {
            "image/png": "[encoded data removed]",
            "text/plain": [
              "<Figure size 432x288 with 1 Axes>"
            ]
          },
          "metadata": {
            "needs_background": "light"
          }
        }
      ]
    },
    {
      "cell_type": "code",
      "source": [
        "print (Resumen_1)"
      ],
      "metadata": {
        "colab": {
          "base_uri": "https://localhost:8080/"
        },
        "id": "BW-nZ1I93jvO",
        "outputId": "6e3b7d44-47f9-462b-a664-b8eca34976d9"
      },
      "execution_count": null,
      "outputs": [
        {
          "output_type": "stream",
          "name": "stdout",
          "text": [
            "                       sum\n",
            "Cod_Producto              \n",
            "AA11          8.150000e+07\n",
            "AA12          1.635272e+07\n",
            "AA13          2.986433e+07\n",
            "AA14          5.879917e+07\n",
            "AA15          6.911612e+07\n",
            "AA16          1.182848e+08\n",
            "AA17          1.595252e+08\n",
            "AA18          9.064420e+07\n",
            "AA19          1.053072e+08\n",
            "AA20          1.195703e+08\n",
            "AA21          1.334334e+08\n",
            "AA22          1.468967e+08\n",
            "AA23          1.602241e+08\n",
            "AA24          1.491183e+08\n",
            "AA25          1.339436e+08\n",
            "AA26          5.790614e+07\n",
            "AA27          3.083418e+07\n",
            "CC22          6.000000e+06\n",
            "CC23          1.996728e+07\n",
            "CC24          4.043283e+07\n",
            "CC25          5.425192e+07\n",
            "CC26          9.575357e+07\n",
            "CC27          1.332841e+08\n",
            "CC28          1.768437e+08\n",
            "CC29          9.589623e+07\n",
            "CC30          1.104792e+08\n",
            "CC31          1.246623e+08\n",
            "CC32          1.384455e+08\n",
            "CC33          1.727759e+08\n",
            "CC34          1.650845e+08\n",
            "CC35          1.532417e+08\n",
            "CC36          8.317920e+07\n",
            "CC37          5.926517e+07\n",
            "CC38          3.150639e+07\n",
            "EE22          5.103119e+07\n",
            "EE23          1.491886e+07\n",
            "EE24          1.706499e+07\n",
            "EE25          1.915399e+07\n",
            "EE26          2.118586e+07\n",
            "EE27          2.316059e+07\n",
            "EE28          2.507820e+07\n",
            "EE29          2.693868e+07\n",
            "EE30          2.874203e+07\n",
            "EE31          3.048825e+07\n",
            "EE32          3.217733e+07\n"
          ]
        }
      ]
    },
    {
      "cell_type": "code",
      "source": [
        "Ventas_Resumen2= BD_Ventas.groupby('Local')\n",
        "DF_utilidad = Ventas_Resumen2['Utilidad'].agg(['sum'],skipna=True)\n",
        "print(DF_utilidad)\n"
      ],
      "metadata": {
        "colab": {
          "base_uri": "https://localhost:8080/"
        },
        "id": "VoNcOjCZ30FK",
        "outputId": "0acb3c0c-6199-4c16-99fb-2e0a8e27e07e"
      },
      "execution_count": null,
      "outputs": [
        {
          "output_type": "stream",
          "name": "stdout",
          "text": [
            "                       sum\n",
            "Local                     \n",
            "La Serena     1.889102e+08\n",
            "Rancagua      6.388579e+07\n",
            "Santiago      5.850000e+05\n",
            "Temuco        9.128791e+08\n",
            "Valdivia      1.848514e+08\n",
            "Viña del mar  1.949498e+08\n"
          ]
        }
      ]
    },
    {
      "cell_type": "code",
      "source": [
        "#e) Determinar las ventas (Venta_Total $) por productos del señor Juan Romero\n",
        "grupo = BD_Ventas[BD_Ventas['Vendedor']=='Juan Romero'].groupby('Cod_Producto')\n",
        "Respuesta = grupo['Venta_Total'].agg(['sum'],skipna=True)\n",
        "print(Respuesta)\n"
      ],
      "metadata": {
        "colab": {
          "base_uri": "https://localhost:8080/"
        },
        "id": "oEX1BMr94Lvc",
        "outputId": "f15fa02b-e3b4-4069-c857-b6ecf77f6065"
      },
      "execution_count": null,
      "outputs": [
        {
          "output_type": "stream",
          "name": "stdout",
          "text": [
            "                       sum\n",
            "Cod_Producto              \n",
            "AA11          8.150000e+07\n",
            "AA16          1.182848e+08\n",
            "AA18          9.064420e+07\n",
            "AA23          1.602241e+08\n",
            "CC24          4.043283e+07\n",
            "CC32          1.384455e+08\n",
            "CC37          5.926517e+07\n",
            "EE24          1.706499e+07\n",
            "EE29          2.693868e+07\n"
          ]
        }
      ]
    },
    {
      "cell_type": "code",
      "source": [
        "# e) Determinar las ventas (Venta_Total $) por productos del señor Juan Romero\n",
        "Venta_vendedor = BD_Ventas [['Vendedor', 'Venta_Total']]\n",
        "Venta_por_vendedor = Venta_vendedor.groupby('Vendedor')\n",
        "\n",
        "ingreso_vendedor=input('Ingrese el Vendedor:')\n",
        "\n",
        "grupo = BD_Ventas[BD_Ventas['Vendedor']==ingreso_vendedor].groupby('Vendedor')\n",
        "Respuesta = grupo['Venta_Total'].agg(['sum'],skipna=True)\n",
        "\n",
        "print(Respuesta)\n"
      ],
      "metadata": {
        "colab": {
          "base_uri": "https://localhost:8080/"
        },
        "id": "2SRyNzl35pXl",
        "outputId": "271a3e2e-e7d6-49f6-8382-cbe6eac8f1de"
      },
      "execution_count": null,
      "outputs": [
        {
          "output_type": "stream",
          "name": "stdout",
          "text": [
            "Ingrese el Vendedor:Juan Romero\n",
            "                      sum\n",
            "Vendedor                 \n",
            "Juan Romero  7.328002e+08\n"
          ]
        }
      ]
    },
    {
      "cell_type": "code",
      "source": [
        "ingreso_productos= str(input('Ingresa un vendedor: '))  # Debe ser igual al registro del excel BD_Ventas_Python.\n",
        "\n",
        "\n",
        "grupo2 = BD_Ventas[BD_Ventas['Vendedor']==ingreso_productos].groupby('Cod_Producto')\n",
        "Resultado = grupo2['Utilidad'].agg(['sum'],skipna=True)\n",
        "\n",
        "print(Resultado)\n"
      ],
      "metadata": {
        "colab": {
          "base_uri": "https://localhost:8080/"
        },
        "id": "X1AM3MUe4xKl",
        "outputId": "2333d847-fdff-4a57-a84b-f2be66cc14d5"
      },
      "execution_count": null,
      "outputs": [
        {
          "output_type": "stream",
          "name": "stdout",
          "text": [
            "Ingresa un vendedor: Juan Romero\n",
            "                       sum\n",
            "Cod_Producto              \n",
            "AA11          4.075000e+07\n",
            "AA16          5.914238e+07\n",
            "AA18          3.172547e+07\n",
            "AA23          8.011205e+07\n",
            "CC24          1.415149e+07\n",
            "CC32          4.845593e+07\n",
            "CC37          2.963258e+07\n",
            "EE24          8.532493e+06\n",
            "EE29          9.428538e+06\n"
          ]
        }
      ]
    },
    {
      "cell_type": "code",
      "metadata": {
        "id": "8EVjmlKCQ1id"
      },
      "source": [
        "Venta_por_producto = BD_Ventas [['Cod_Producto', 'Venta_Total']]"
      ],
      "execution_count": null,
      "outputs": []
    },
    {
      "cell_type": "code",
      "source": [
        "type(Venta_por_producto)"
      ],
      "metadata": {
        "id": "5yK4BWcL2jEj"
      },
      "execution_count": null,
      "outputs": []
    },
    {
      "cell_type": "code",
      "source": [
        "# Agrupación similar a una tabla dinámica.\n",
        "Ventas_respuesta = Venta_por_producto.groupby('Cod_Producto')\n",
        "Informe_por_Producto = Ventas_respuesta['Venta_Total'].agg(['sum','mean','count', 'std'],skipna=True)"
      ],
      "metadata": {
        "id": "q9TpnNCi2mmT"
      },
      "execution_count": null,
      "outputs": []
    },
    {
      "cell_type": "code",
      "source": [
        "print (Informe_por_Producto)"
      ],
      "metadata": {
        "id": "iVSziuH93iP8"
      },
      "execution_count": null,
      "outputs": []
    },
    {
      "cell_type": "markdown",
      "source": [],
      "metadata": {
        "id": "ACz1NB9-ifyN"
      }
    }
  ]
}