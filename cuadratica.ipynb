{
  "nbformat": 4,
  "nbformat_minor": 0,
  "metadata": {
    "colab": {
      "provenance": [],
      "authorship_tag": "ABX9TyMhWz+A46N6GUUG06PlmhBo",
      "include_colab_link": true
    },
    "kernelspec": {
      "name": "python3",
      "display_name": "Python 3"
    },
    "language_info": {
      "name": "python"
    }
  },
  "cells": [
    {
      "cell_type": "markdown",
      "metadata": {
        "id": "view-in-github",
        "colab_type": "text"
      },
      "source": [
        "<a href=\"https://colab.research.google.com/github/henzoprofe/python/blob/main/cuadratica.ipynb\" target=\"_parent\"><img src=\"https://colab.research.google.com/assets/colab-badge.svg\" alt=\"Open In Colab\"/></a>"
      ]
    },
    {
      "cell_type": "markdown",
      "source": [
        "Para usar el programa presione el símbolo de \"play\" que está más abajo."
      ],
      "metadata": {
        "id": "3uO-VVxSv-c9"
      }
    },
    {
      "cell_type": "code",
      "execution_count": null,
      "metadata": {
        "cellView": "form",
        "id": "OiCekqhzunhZ"
      },
      "outputs": [],
      "source": [
        "# @title\n",
        "print(\"Programa para resolver cuadraticas\")\n",
        "opcion = 2\n",
        "while True:\n",
        "  while True:\n",
        "    a = float(input(\"Ingrese el coeficiente cuadrático:\"))\n",
        "    if a != 0:\n",
        "      break\n",
        "    else:\n",
        "      print(\"El coeficiente cuadrático no puede ser cero\")\n",
        "  b = float(input(\"Ingrese el coeficiente lineal:\"))\n",
        "  c = float(input(\"Ingrese el coeficiente libre:\"))\n",
        "  disc = b*b - 4*a*c\n",
        "  print(\"El discriminante es:\",disc)\n",
        "  if disc < 0:\n",
        "  \tprint(\"No existe solución real\")\n",
        "  elif disc == 0:\n",
        "  \tprint(\"Existe única solución real, x=\",(-b/(2*a)))\n",
        "  else:\n",
        "  \tprint(\"Existen dos soluciones reales:\\nx1=\",(-b-disc**0.5)/(2*a),\" y x2=\",(-b+disc**0.5)/(2*a))\n",
        "  opcion = float(input(\"Presione 1 para salir\\tPresione 2 para resolver otra ecuación\\nOpcion:\"))\n",
        "  if opcion == 1:\n",
        "    break\n",
        "print(\"Gracias por usar el programa\")"
      ]
    }
  ]
}